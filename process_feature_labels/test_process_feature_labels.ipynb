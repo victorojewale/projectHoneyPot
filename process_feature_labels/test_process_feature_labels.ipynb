{
 "cells": [
  {
   "cell_type": "code",
   "execution_count": 6,
   "metadata": {},
   "outputs": [],
   "source": [
    "from annotations_processor import *"
   ]
  },
  {
   "cell_type": "code",
   "execution_count": 8,
   "metadata": {},
   "outputs": [],
   "source": [
    "mturk_data_annotations_path = '../data_annotations/mturk_results_imagenet.csv'\n",
    "mturk_labels = load_human_labels(mturk_data_annotations_path)"
   ]
  },
  {
   "cell_type": "code",
   "execution_count": 9,
   "metadata": {},
   "outputs": [
    {
     "data": {
      "text/html": [
       "<div>\n",
       "<style scoped>\n",
       "    .dataframe tbody tr th:only-of-type {\n",
       "        vertical-align: middle;\n",
       "    }\n",
       "\n",
       "    .dataframe tbody tr th {\n",
       "        vertical-align: top;\n",
       "    }\n",
       "\n",
       "    .dataframe thead th {\n",
       "        text-align: right;\n",
       "    }\n",
       "</style>\n",
       "<table border=\"1\" class=\"dataframe\">\n",
       "  <thead>\n",
       "    <tr style=\"text-align: right;\">\n",
       "      <th></th>\n",
       "      <th>WorkerId</th>\n",
       "      <th>Input.wordnet_id</th>\n",
       "      <th>Input.class_index</th>\n",
       "      <th>Input.feature_index</th>\n",
       "      <th>Input.feature_rank</th>\n",
       "      <th>Answer.main</th>\n",
       "      <th>Answer.confidence</th>\n",
       "      <th>Answer.reasons</th>\n",
       "    </tr>\n",
       "  </thead>\n",
       "  <tbody>\n",
       "    <tr>\n",
       "      <th>0</th>\n",
       "      <td>52</td>\n",
       "      <td>n01440764</td>\n",
       "      <td>0</td>\n",
       "      <td>59</td>\n",
       "      <td>1</td>\n",
       "      <td>main_object</td>\n",
       "      <td>4.0</td>\n",
       "      <td>focus is on body of tench</td>\n",
       "    </tr>\n",
       "    <tr>\n",
       "      <th>1</th>\n",
       "      <td>22</td>\n",
       "      <td>n01440764</td>\n",
       "      <td>0</td>\n",
       "      <td>59</td>\n",
       "      <td>1</td>\n",
       "      <td>main_object</td>\n",
       "      <td>4.0</td>\n",
       "      <td>focus is on part of the tench</td>\n",
       "    </tr>\n",
       "    <tr>\n",
       "      <th>2</th>\n",
       "      <td>229</td>\n",
       "      <td>n01440764</td>\n",
       "      <td>0</td>\n",
       "      <td>59</td>\n",
       "      <td>1</td>\n",
       "      <td>main_object</td>\n",
       "      <td>5.0</td>\n",
       "      <td>The focus of the red region in the Highlighted...</td>\n",
       "    </tr>\n",
       "    <tr>\n",
       "      <th>3</th>\n",
       "      <td>186</td>\n",
       "      <td>n01440764</td>\n",
       "      <td>0</td>\n",
       "      <td>59</td>\n",
       "      <td>1</td>\n",
       "      <td>main_object</td>\n",
       "      <td>5.0</td>\n",
       "      <td>focus is on main body part of Tinca tinca.</td>\n",
       "    </tr>\n",
       "    <tr>\n",
       "      <th>4</th>\n",
       "      <td>234</td>\n",
       "      <td>n01440764</td>\n",
       "      <td>0</td>\n",
       "      <td>59</td>\n",
       "      <td>1</td>\n",
       "      <td>main_object</td>\n",
       "      <td>4.0</td>\n",
       "      <td>The main obect is tench whose some part got fo...</td>\n",
       "    </tr>\n",
       "  </tbody>\n",
       "</table>\n",
       "</div>"
      ],
      "text/plain": [
       "   WorkerId  ...                                     Answer.reasons\n",
       "0        52  ...                          focus is on body of tench\n",
       "1        22  ...                      focus is on part of the tench\n",
       "2       229  ...  The focus of the red region in the Highlighted...\n",
       "3       186  ...         focus is on main body part of Tinca tinca.\n",
       "4       234  ...  The main obect is tench whose some part got fo...\n",
       "\n",
       "[5 rows x 8 columns]"
      ]
     },
     "execution_count": 9,
     "metadata": {},
     "output_type": "execute_result"
    }
   ],
   "source": [
    "mturk_labels.head()"
   ]
  },
  {
   "cell_type": "code",
   "execution_count": null,
   "metadata": {},
   "outputs": [],
   "source": []
  },
  {
   "cell_type": "code",
   "execution_count": null,
   "metadata": {},
   "outputs": [],
   "source": [
    "aggregated_labels = aggregate_class_wise(mturk_labels)\n",
    "aggregated_data_path = '../data_annotations/aggregated_imagenet_mturk.csv'\n",
    "store_aggregated_labels(aggregated_data_path, aggregated_labels)    "
   ]
  }
 ],
 "metadata": {
  "kernelspec": {
   "display_name": "dl_project",
   "language": "python",
   "name": "python3"
  },
  "language_info": {
   "codemirror_mode": {
    "name": "ipython",
    "version": 3
   },
   "file_extension": ".py",
   "mimetype": "text/x-python",
   "name": "python",
   "nbconvert_exporter": "python",
   "pygments_lexer": "ipython3",
   "version": "3.12.2"
  }
 },
 "nbformat": 4,
 "nbformat_minor": 2
}
