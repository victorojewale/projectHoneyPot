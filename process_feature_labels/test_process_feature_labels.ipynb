{
 "cells": [
  {
   "cell_type": "code",
   "execution_count": 1,
   "metadata": {},
   "outputs": [],
   "source": [
    "from annotations_processor import *"
   ]
  },
  {
   "cell_type": "code",
   "execution_count": 2,
   "metadata": {},
   "outputs": [],
   "source": [
    "mturk_data_annotations_path = '../data_annotations/mturk_results_imagenet.csv'\n",
    "mturk_labels = load_human_labels(mturk_data_annotations_path)"
   ]
  },
  {
   "cell_type": "code",
   "execution_count": 3,
   "metadata": {},
   "outputs": [
    {
     "data": {
      "text/html": [
       "<div>\n",
       "<style scoped>\n",
       "    .dataframe tbody tr th:only-of-type {\n",
       "        vertical-align: middle;\n",
       "    }\n",
       "\n",
       "    .dataframe tbody tr th {\n",
       "        vertical-align: top;\n",
       "    }\n",
       "\n",
       "    .dataframe thead th {\n",
       "        text-align: right;\n",
       "    }\n",
       "</style>\n",
       "<table border=\"1\" class=\"dataframe\">\n",
       "  <thead>\n",
       "    <tr style=\"text-align: right;\">\n",
       "      <th></th>\n",
       "      <th>WorkerId</th>\n",
       "      <th>Input.wordnet_id</th>\n",
       "      <th>Input.class_index</th>\n",
       "      <th>Input.feature_index</th>\n",
       "      <th>Input.feature_rank</th>\n",
       "      <th>Answer.main</th>\n",
       "      <th>Answer.confidence</th>\n",
       "      <th>Answer.reasons</th>\n",
       "    </tr>\n",
       "  </thead>\n",
       "  <tbody>\n",
       "    <tr>\n",
       "      <th>0</th>\n",
       "      <td>52</td>\n",
       "      <td>n01440764</td>\n",
       "      <td>0</td>\n",
       "      <td>59</td>\n",
       "      <td>1</td>\n",
       "      <td>0</td>\n",
       "      <td>4.0</td>\n",
       "      <td>focus is on body of tench</td>\n",
       "    </tr>\n",
       "    <tr>\n",
       "      <th>1</th>\n",
       "      <td>22</td>\n",
       "      <td>n01440764</td>\n",
       "      <td>0</td>\n",
       "      <td>59</td>\n",
       "      <td>1</td>\n",
       "      <td>0</td>\n",
       "      <td>4.0</td>\n",
       "      <td>focus is on part of the tench</td>\n",
       "    </tr>\n",
       "    <tr>\n",
       "      <th>2</th>\n",
       "      <td>229</td>\n",
       "      <td>n01440764</td>\n",
       "      <td>0</td>\n",
       "      <td>59</td>\n",
       "      <td>1</td>\n",
       "      <td>0</td>\n",
       "      <td>5.0</td>\n",
       "      <td>The focus of the red region in the Highlighted...</td>\n",
       "    </tr>\n",
       "    <tr>\n",
       "      <th>3</th>\n",
       "      <td>186</td>\n",
       "      <td>n01440764</td>\n",
       "      <td>0</td>\n",
       "      <td>59</td>\n",
       "      <td>1</td>\n",
       "      <td>0</td>\n",
       "      <td>5.0</td>\n",
       "      <td>focus is on main body part of Tinca tinca.</td>\n",
       "    </tr>\n",
       "    <tr>\n",
       "      <th>4</th>\n",
       "      <td>234</td>\n",
       "      <td>n01440764</td>\n",
       "      <td>0</td>\n",
       "      <td>59</td>\n",
       "      <td>1</td>\n",
       "      <td>0</td>\n",
       "      <td>4.0</td>\n",
       "      <td>The main obect is tench whose some part got fo...</td>\n",
       "    </tr>\n",
       "  </tbody>\n",
       "</table>\n",
       "</div>"
      ],
      "text/plain": [
       "   WorkerId Input.wordnet_id  Input.class_index  Input.feature_index  \\\n",
       "0        52        n01440764                  0                   59   \n",
       "1        22        n01440764                  0                   59   \n",
       "2       229        n01440764                  0                   59   \n",
       "3       186        n01440764                  0                   59   \n",
       "4       234        n01440764                  0                   59   \n",
       "\n",
       "   Input.feature_rank  Answer.main  Answer.confidence  \\\n",
       "0                   1            0                4.0   \n",
       "1                   1            0                4.0   \n",
       "2                   1            0                5.0   \n",
       "3                   1            0                5.0   \n",
       "4                   1            0                4.0   \n",
       "\n",
       "                                      Answer.reasons  \n",
       "0                          focus is on body of tench  \n",
       "1                      focus is on part of the tench  \n",
       "2  The focus of the red region in the Highlighted...  \n",
       "3         focus is on main body part of Tinca tinca.  \n",
       "4  The main obect is tench whose some part got fo...  "
      ]
     },
     "execution_count": 3,
     "metadata": {},
     "output_type": "execute_result"
    }
   ],
   "source": [
    "mturk_labels.head()"
   ]
  },
  {
   "cell_type": "code",
   "execution_count": 4,
   "metadata": {},
   "outputs": [
    {
     "data": {
      "text/plain": [
       "Index(['WorkerId', 'Input.wordnet_id', 'Input.class_index',\n",
       "       'Input.feature_index', 'Input.feature_rank', 'Answer.main',\n",
       "       'Answer.confidence', 'Answer.reasons'],\n",
       "      dtype='object')"
      ]
     },
     "execution_count": 4,
     "metadata": {},
     "output_type": "execute_result"
    }
   ],
   "source": [
    "mturk_labels.columns"
   ]
  },
  {
   "cell_type": "code",
   "execution_count": 5,
   "metadata": {},
   "outputs": [
    {
     "data": {
      "text/html": [
       "<div>\n",
       "<style scoped>\n",
       "    .dataframe tbody tr th:only-of-type {\n",
       "        vertical-align: middle;\n",
       "    }\n",
       "\n",
       "    .dataframe tbody tr th {\n",
       "        vertical-align: top;\n",
       "    }\n",
       "\n",
       "    .dataframe thead th {\n",
       "        text-align: right;\n",
       "    }\n",
       "</style>\n",
       "<table border=\"1\" class=\"dataframe\">\n",
       "  <thead>\n",
       "    <tr style=\"text-align: right;\">\n",
       "      <th></th>\n",
       "      <th>Input.wordnet_id</th>\n",
       "      <th>Input.class_index</th>\n",
       "      <th>Input.feature_index</th>\n",
       "      <th>Input.feature_rank</th>\n",
       "      <th>Answer.main</th>\n",
       "    </tr>\n",
       "  </thead>\n",
       "  <tbody>\n",
       "    <tr>\n",
       "      <th>0</th>\n",
       "      <td>n01440764</td>\n",
       "      <td>0</td>\n",
       "      <td>59</td>\n",
       "      <td>1</td>\n",
       "      <td>0</td>\n",
       "    </tr>\n",
       "    <tr>\n",
       "      <th>1</th>\n",
       "      <td>n01440764</td>\n",
       "      <td>0</td>\n",
       "      <td>686</td>\n",
       "      <td>2</td>\n",
       "      <td>0</td>\n",
       "    </tr>\n",
       "    <tr>\n",
       "      <th>2</th>\n",
       "      <td>n01440764</td>\n",
       "      <td>0</td>\n",
       "      <td>701</td>\n",
       "      <td>3</td>\n",
       "      <td>0</td>\n",
       "    </tr>\n",
       "    <tr>\n",
       "      <th>3</th>\n",
       "      <td>n01440764</td>\n",
       "      <td>0</td>\n",
       "      <td>1696</td>\n",
       "      <td>5</td>\n",
       "      <td>0</td>\n",
       "    </tr>\n",
       "    <tr>\n",
       "      <th>4</th>\n",
       "      <td>n01440764</td>\n",
       "      <td>0</td>\n",
       "      <td>2030</td>\n",
       "      <td>4</td>\n",
       "      <td>0</td>\n",
       "    </tr>\n",
       "    <tr>\n",
       "      <th>...</th>\n",
       "      <td>...</td>\n",
       "      <td>...</td>\n",
       "      <td>...</td>\n",
       "      <td>...</td>\n",
       "      <td>...</td>\n",
       "    </tr>\n",
       "    <tr>\n",
       "      <th>4995</th>\n",
       "      <td>n15075141</td>\n",
       "      <td>999</td>\n",
       "      <td>1154</td>\n",
       "      <td>2</td>\n",
       "      <td>0</td>\n",
       "    </tr>\n",
       "    <tr>\n",
       "      <th>4996</th>\n",
       "      <td>n15075141</td>\n",
       "      <td>999</td>\n",
       "      <td>1290</td>\n",
       "      <td>4</td>\n",
       "      <td>0</td>\n",
       "    </tr>\n",
       "    <tr>\n",
       "      <th>4997</th>\n",
       "      <td>n15075141</td>\n",
       "      <td>999</td>\n",
       "      <td>1412</td>\n",
       "      <td>3</td>\n",
       "      <td>0</td>\n",
       "    </tr>\n",
       "    <tr>\n",
       "      <th>4998</th>\n",
       "      <td>n15075141</td>\n",
       "      <td>999</td>\n",
       "      <td>1777</td>\n",
       "      <td>1</td>\n",
       "      <td>0</td>\n",
       "    </tr>\n",
       "    <tr>\n",
       "      <th>4999</th>\n",
       "      <td>n15075141</td>\n",
       "      <td>999</td>\n",
       "      <td>1934</td>\n",
       "      <td>5</td>\n",
       "      <td>1</td>\n",
       "    </tr>\n",
       "  </tbody>\n",
       "</table>\n",
       "<p>5000 rows × 5 columns</p>\n",
       "</div>"
      ],
      "text/plain": [
       "     Input.wordnet_id  Input.class_index  Input.feature_index  \\\n",
       "0           n01440764                  0                   59   \n",
       "1           n01440764                  0                  686   \n",
       "2           n01440764                  0                  701   \n",
       "3           n01440764                  0                 1696   \n",
       "4           n01440764                  0                 2030   \n",
       "...               ...                ...                  ...   \n",
       "4995        n15075141                999                 1154   \n",
       "4996        n15075141                999                 1290   \n",
       "4997        n15075141                999                 1412   \n",
       "4998        n15075141                999                 1777   \n",
       "4999        n15075141                999                 1934   \n",
       "\n",
       "      Input.feature_rank  Answer.main  \n",
       "0                      1            0  \n",
       "1                      2            0  \n",
       "2                      3            0  \n",
       "3                      5            0  \n",
       "4                      4            0  \n",
       "...                  ...          ...  \n",
       "4995                   2            0  \n",
       "4996                   4            0  \n",
       "4997                   3            0  \n",
       "4998                   1            0  \n",
       "4999                   5            1  \n",
       "\n",
       "[5000 rows x 5 columns]"
      ]
     },
     "execution_count": 5,
     "metadata": {},
     "output_type": "execute_result"
    }
   ],
   "source": [
    "aggregated_labels = aggregate_class_wise(mturk_labels)\n",
    "aggregated_labels"
   ]
  },
  {
   "cell_type": "code",
   "execution_count": 6,
   "metadata": {},
   "outputs": [],
   "source": [
    "\n",
    "aggregated_data_path = '../data_annotations/aggregated_imagenet_mturk.csv'\n",
    "store_aggregated_labels(aggregated_data_path, aggregated_labels)    "
   ]
  },
  {
   "cell_type": "markdown",
   "metadata": {},
   "source": [
    "# Visualize human labels per class and feature"
   ]
  },
  {
   "cell_type": "code",
   "execution_count": 7,
   "metadata": {},
   "outputs": [],
   "source": [
    "import matplotlib.pyplot as plt"
   ]
  },
  {
   "cell_type": "code",
   "execution_count": 8,
   "metadata": {},
   "outputs": [
    {
     "data": {
      "image/png": "[encoded data removed]",
      "text/plain": [
       "<Figure size 640x480 with 1 Axes>"
      ]
     },
     "metadata": {},
     "output_type": "display_data"
    }
   ],
   "source": [
    "plt.figure()\n",
    "#class and number of spurious features\n",
    "class_spurious = aggregated_labels.groupby('Input.class_index')['Answer.main'].sum().reset_index()\n",
    "heights = class_spurious.groupby('Answer.main').size()\n",
    "plt.bar(x = range(6), height=heights)\n",
    "for i, height in enumerate(heights):\n",
    "    plt.text(i, height, str(height), ha='center', va='bottom')\n",
    "plt.xlabel('Spurious Features')\n",
    "plt.ylabel('Classes')\n",
    "plt.title('Number of Spurious Features Per Class')\n",
    "plt.show()\n"
   ]
  },
  {
   "cell_type": "code",
   "execution_count": 9,
   "metadata": {},
   "outputs": [
    {
     "name": "stdout",
     "output_type": "stream",
     "text": [
      "357\n"
     ]
    }
   ],
   "source": [
    "print(sum(heights[1:]))  #equal to 357 so data is bene"
   ]
  },
  {
   "cell_type": "code",
   "execution_count": 11,
   "metadata": {},
   "outputs": [],
   "source": [
    "spurious_classes_path = '../data_annotations/spurious_imagenet_classes.csv'\n",
    "spurious_classes = filter_spurious_classes(aggregated_labels) \n",
    "spurious_classes.head()"
   ]
  },
  {
   "cell_type": "code",
   "execution_count": null,
   "metadata": {},
   "outputs": [],
   "source": [
    "store_aggregated_labels(spurious_classes_path, spurious_classes)    "
   ]
  }
 ],
 "metadata": {
  "kernelspec": {
   "display_name": "dl_project",
   "language": "python",
   "name": "python3"
  },
  "language_info": {
   "codemirror_mode": {
    "name": "ipython",
    "version": 3
   },
   "file_extension": ".py",
   "mimetype": "text/x-python",
   "name": "python",
   "nbconvert_exporter": "python",
   "pygments_lexer": "ipython3",
   "version": "3.12.2"
  }
 },
 "nbformat": 4,
 "nbformat_minor": 2
}
